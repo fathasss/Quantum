{
 "cells": [
  {
   "cell_type": "markdown",
   "id": "0a613d35",
   "metadata": {},
   "source": [
    "# Null Geodesic Nedir?\n",
    "\n",
    "* Genel görelilikte **geodesic** bir parçacığın (veya ışığın) uzay-zamandaki izlediği en kısa/uzun yol gibi düşünebilirsin.\n",
    "* Eğer geodesic **null (ışık benzeri)** ise bu şu demek:\n",
    "\n",
    "$$ds^2 = 0$$\n",
    "\n",
    "yani parçacığın **ışık hızında** gittiği durumda, uzay-zaman aralığı sıfırdır.\n",
    "\n",
    "## Kerr Metriğinde Null Geodesic\n",
    "\n",
    "Kerr metriğinde bu şu anlama geliyor:\n",
    "* Kütle çekim alanında ışık ışınlarının yolu, hem **kütle çekimi** hem de **dönüş momenti (a)** yüzünden bükülür.\n",
    "* Dönüş (frame dragging) ışığı kendi etrafında sürükler."
   ]
  },
  {
   "cell_type": "markdown",
   "id": "c145352d",
   "metadata": {},
   "source": [
    "# Kerr Metriği İçin Null Geodesic Denklemleri\n",
    "\n",
    "Bunlar genellikle **Hamilton-Jacobi** formundan türetilir:\n",
    "\n",
    "$$\\Sigma \\frac{dr}{d\\lambda} = \\pm \\sqrt{R(r)}$$\n",
    "\n",
    "$$\\Sigma \\frac{d\\theta}{d\\lambda} = \\pm \\sqrt{\\Theta(\\theta)}$$\n",
    "\n",
    "$$\\Sigma \\frac{d\\phi}{d\\lambda} = \\frac{a(E(r^2+a^2)-aL_z)}{\\Delta} + \\frac{L_z}{\\sin^2\\theta} - aE$$\n",
    "\n",
    "$$\\Sigma \\frac{dt}{d\\lambda} = \\frac{(r^2+a^2)^2-a^2\\Delta\\sin^2\\theta}{\\Delta} E - a(aE\\sin^2\\theta - L_z)$$\n",
    "\n",
    "## Parametreler\n",
    "\n",
    "Burada:\n",
    "* $E$ → enerjinin birim kütleye oranı (ışık için normalleştirilmiş)\n",
    "* $L_z$ → açısal momentum\n",
    "* $a$ → Kerr dönüş parametresi\n",
    "* $\\Delta = r^2 - 2Mr + a^2$\n",
    "* $\\Sigma = r^2 + a^2 \\cos^2\\theta$"
   ]
  },
  {
   "cell_type": "code",
   "execution_count": null,
   "id": "b3024114",
   "metadata": {},
   "outputs": [],
   "source": [
    "!pip install numpy\n",
    "!pip install matplotlib\n",
    "!pip install numba\n"
   ]
  }
 ],
 "metadata": {
  "kernelspec": {
   "display_name": "Python 3 (ipykernel)",
   "language": "python",
   "name": "python3"
  }
 },
 "nbformat": 4,
 "nbformat_minor": 5
}
